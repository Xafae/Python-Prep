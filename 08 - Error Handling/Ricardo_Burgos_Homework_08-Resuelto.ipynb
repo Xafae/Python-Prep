{
 "cells": [
  {
   "cell_type": "markdown",
   "metadata": {},
   "source": [
    "## Manejo de errores"
   ]
  },
  {
   "cell_type": "markdown",
   "metadata": {},
   "source": [
    "1) Con la clase creada en el módulo 7, tener en cuenta diferentes casos en que el código pudiera arrojar error. Por ejemplo, en la creación del objeto recibimos una lista de números enteros pero ¿qué pasa si se envía otro tipo de dato?\n"
   ]
  },
  {
   "cell_type": "code",
   "execution_count": 2,
   "metadata": {},
   "outputs": [
    {
     "name": "stdout",
     "output_type": "stream",
     "text": [
      "10 NO es primo\n",
      "-5 No se puede verificar si es primo. Solo numeros enteros y positivos son permitidos\n",
      "10 NO es primo\n",
      "25 NO es primo\n",
      "12.5 No se puede verificar si es primo. Solo numeros enteros y positivos son permitidos\n",
      "12 NO es primo\n",
      "12 NO es primo\n",
      "12 NO es primo\n"
     ]
    }
   ],
   "source": [
    "import sys\n",
    "sys.path.append(r\"C:/Users/Admin/Desktop/Python-Prep/08 - Error Handling\")\n",
    "import Matematicas as M\n",
    "mate_prueba = M.Matematicas([10, -5, 10, 25, 12.5, 12, 12, 12])\n",
    "mate_prueba.esPrimo()"
   ]
  },
  {
   "cell_type": "markdown",
   "metadata": {},
   "source": [
    "2) En la función que hace la conversión de grados, validar que los parámetros enviados sean los esperados, de no serlo, informar cuáles son los valores esperados."
   ]
  },
  {
   "cell_type": "code",
   "execution_count": 3,
   "metadata": {},
   "outputs": [
    {
     "name": "stdout",
     "output_type": "stream",
     "text": [
      "283.15\n",
      "268.15\n",
      "283.15\n",
      "298.15\n",
      "285.65\n",
      "285.15\n",
      "285.15\n",
      "285.15\n"
     ]
    }
   ],
   "source": [
    "mate_prueba.convertidorTemperatura(\"C\", \"K\")"
   ]
  },
  {
   "cell_type": "markdown",
   "metadata": {},
   "source": [
    "3) Importar el modulo \"unittest\" y crear los siguientes casos de pruebas sobre la clase utilizada en el punto 2<br>\n",
    "Creacion del objeto incorrecta<br>\n",
    "Creacion correcta del objeto<br>\n",
    "Metodo valor_modal()<br>"
   ]
  },
  {
   "cell_type": "code",
   "execution_count": 4,
   "metadata": {},
   "outputs": [
    {
     "name": "stderr",
     "output_type": "stream",
     "text": [
      "test_Creacion_de_Objeto_Correcta (__main__.CajaNegraTest) ... ok\n",
      "test_Creacion_de_Objeto_Vacio (__main__.CajaNegraTest) ... ok\n",
      "test_Creacion_de_Objeto_con_Strings (__main__.CajaNegraTest) ... ERROR\n",
      "test_Valor_Modal_con_Parametro_Equivocado (__main__.CajaNegraTest) ... ERROR\n",
      "test_Valor_Modal_con_Strings (__main__.CajaNegraTest) ... ERROR\n",
      "\n",
      "======================================================================\n",
      "ERROR: test_Creacion_de_Objeto_con_Strings (__main__.CajaNegraTest)\n",
      "----------------------------------------------------------------------\n",
      "Traceback (most recent call last):\n",
      "  File \"c:\\Users\\Admin\\Desktop\\Python-Prep\\08 - Error Handling\\Matematicas.py\", line 9, in __init__\n",
      "    assert type(elemento) == int or type(elemento) == float, f\"La lista solo debe estar compuesta por numeros enteros o decimales\"\n",
      "AssertionError: La lista solo debe estar compuesta por numeros enteros o decimales\n",
      "\n",
      "During handling of the above exception, another exception occurred:\n",
      "\n",
      "Traceback (most recent call last):\n",
      "  File \"C:\\Users\\Admin\\AppData\\Local\\Temp\\ipykernel_8468\\161769108.py\", line 5, in test_Creacion_de_Objeto_con_Strings\n",
      "    lista_test = M.Matematicas([\"10\", \"Hola\"])\n",
      "  File \"c:\\Users\\Admin\\Desktop\\Python-Prep\\08 - Error Handling\\Matematicas.py\", line 12, in __init__\n",
      "    raise ValueError(\"La lista no puede estar vacia\")\n",
      "ValueError: La lista no puede estar vacia\n",
      "\n",
      "======================================================================\n",
      "ERROR: test_Valor_Modal_con_Parametro_Equivocado (__main__.CajaNegraTest)\n",
      "----------------------------------------------------------------------\n",
      "Traceback (most recent call last):\n",
      "  File \"C:\\Users\\Admin\\AppData\\Local\\Temp\\ipykernel_8468\\161769108.py\", line 21, in test_Valor_Modal_con_Parametro_Equivocado\n",
      "    lista_test.valorModal(\"Ma\")\n",
      "  File \"c:\\Users\\Admin\\Desktop\\Python-Prep\\08 - Error Handling\\Matematicas.py\", line 31, in valorModal\n",
      "    print(self.__valorModal(self.lista, eleccion))\n",
      "  File \"c:\\Users\\Admin\\Desktop\\Python-Prep\\08 - Error Handling\\Matematicas.py\", line 90, in __valorModal\n",
      "    raise ValueError(\"Debe ingresar \"\"Mayor\"\" o \"\"Menor\"\"\")\n",
      "ValueError: Debe ingresar Mayor o Menor\n",
      "\n",
      "======================================================================\n",
      "ERROR: test_Valor_Modal_con_Strings (__main__.CajaNegraTest)\n",
      "----------------------------------------------------------------------\n",
      "Traceback (most recent call last):\n",
      "  File \"c:\\Users\\Admin\\Desktop\\Python-Prep\\08 - Error Handling\\Matematicas.py\", line 9, in __init__\n",
      "    assert type(elemento) == int or type(elemento) == float, f\"La lista solo debe estar compuesta por numeros enteros o decimales\"\n",
      "AssertionError: La lista solo debe estar compuesta por numeros enteros o decimales\n",
      "\n",
      "During handling of the above exception, another exception occurred:\n",
      "\n",
      "Traceback (most recent call last):\n",
      "  File \"C:\\Users\\Admin\\AppData\\Local\\Temp\\ipykernel_8468\\161769108.py\", line 16, in test_Valor_Modal_con_Strings\n",
      "    lista_test= M.Matematicas ([\"10\", \"Adios\"])\n",
      "  File \"c:\\Users\\Admin\\Desktop\\Python-Prep\\08 - Error Handling\\Matematicas.py\", line 12, in __init__\n",
      "    raise ValueError(\"La lista no puede estar vacia\")\n",
      "ValueError: La lista no puede estar vacia\n",
      "\n",
      "----------------------------------------------------------------------\n",
      "Ran 5 tests in 0.034s\n",
      "\n",
      "FAILED (errors=3)\n"
     ]
    },
    {
     "data": {
      "text/plain": [
       "<unittest.main.TestProgram at 0x247ffab3ac0>"
      ]
     },
     "execution_count": 4,
     "metadata": {},
     "output_type": "execute_result"
    }
   ],
   "source": [
    "import unittest\n",
    "class CajaNegraTest (unittest.TestCase):\n",
    "    \n",
    "    def test_Creacion_de_Objeto_con_Strings (self):\n",
    "        lista_test = M.Matematicas([\"10\", \"Hola\"])\n",
    "        self.assertNotIsInstance(lista_test, M.Matematicas)\n",
    "    \n",
    "    def test_Creacion_de_Objeto_Vacio (self):\n",
    "        lista_test = M.Matematicas ([])\n",
    "\n",
    "    def test_Creacion_de_Objeto_Correcta (self):\n",
    "        lista_test = M.Matematicas([10, -5, 3])\n",
    "        self.assertIsInstance(lista_test, M.Matematicas)\n",
    "\n",
    "    def test_Valor_Modal_con_Strings (self):\n",
    "        lista_test= M.Matematicas ([\"10\", \"Adios\"])\n",
    "        self.assertRaises(lista_test.valorModal(\"Mayor\"))\n",
    "\n",
    "    def test_Valor_Modal_con_Parametro_Equivocado (self):\n",
    "        lista_test = M.Matematicas([10, -5, 3])\n",
    "        lista_test.valorModal(\"Ma\")\n",
    "\n",
    "unittest.main(argv=[\"\"], verbosity = 2, exit=False)"
   ]
  },
  {
   "cell_type": "markdown",
   "metadata": {},
   "source": [
    "6) Agregar casos de pruebas para el método verifica_primos() realizando el cambio en la clase, para que devuelva una lista de True o False en función de que el elemento en la posisicón sea o no primo"
   ]
  },
  {
   "cell_type": "code",
   "execution_count": 5,
   "metadata": {},
   "outputs": [
    {
     "name": "stderr",
     "output_type": "stream",
     "text": [
      "test_Verificar_Primos_Lista (__main__.CajaCristalTest) ... ok\n",
      "test_Creacion_de_Objeto_Correcta (__main__.CajaNegraTest) ... ok\n",
      "test_Creacion_de_Objeto_Vacio (__main__.CajaNegraTest) ... ok\n",
      "test_Creacion_de_Objeto_con_Strings (__main__.CajaNegraTest) ... ERROR\n",
      "test_Valor_Modal_con_Parametro_Equivocado (__main__.CajaNegraTest) ... ERROR\n",
      "test_Valor_Modal_con_Strings (__main__.CajaNegraTest) ... ERROR\n",
      "\n",
      "======================================================================\n",
      "ERROR: test_Creacion_de_Objeto_con_Strings (__main__.CajaNegraTest)\n",
      "----------------------------------------------------------------------\n",
      "Traceback (most recent call last):\n",
      "  File \"c:\\Users\\Admin\\Desktop\\Python-Prep\\08 - Error Handling\\Matematicas.py\", line 9, in __init__\n",
      "    assert type(elemento) == int or type(elemento) == float, f\"La lista solo debe estar compuesta por numeros enteros o decimales\"\n",
      "AssertionError: La lista solo debe estar compuesta por numeros enteros o decimales\n",
      "\n",
      "During handling of the above exception, another exception occurred:\n",
      "\n",
      "Traceback (most recent call last):\n",
      "  File \"C:\\Users\\Admin\\AppData\\Local\\Temp\\ipykernel_8468\\161769108.py\", line 5, in test_Creacion_de_Objeto_con_Strings\n",
      "    lista_test = M.Matematicas([\"10\", \"Hola\"])\n",
      "  File \"c:\\Users\\Admin\\Desktop\\Python-Prep\\08 - Error Handling\\Matematicas.py\", line 12, in __init__\n",
      "    raise ValueError(\"La lista no puede estar vacia\")\n",
      "ValueError: La lista no puede estar vacia\n",
      "\n",
      "======================================================================\n",
      "ERROR: test_Valor_Modal_con_Parametro_Equivocado (__main__.CajaNegraTest)\n",
      "----------------------------------------------------------------------\n",
      "Traceback (most recent call last):\n",
      "  File \"C:\\Users\\Admin\\AppData\\Local\\Temp\\ipykernel_8468\\161769108.py\", line 21, in test_Valor_Modal_con_Parametro_Equivocado\n",
      "    lista_test.valorModal(\"Ma\")\n",
      "  File \"c:\\Users\\Admin\\Desktop\\Python-Prep\\08 - Error Handling\\Matematicas.py\", line 31, in valorModal\n",
      "    print(self.__valorModal(self.lista, eleccion))\n",
      "  File \"c:\\Users\\Admin\\Desktop\\Python-Prep\\08 - Error Handling\\Matematicas.py\", line 90, in __valorModal\n",
      "    raise ValueError(\"Debe ingresar \"\"Mayor\"\" o \"\"Menor\"\"\")\n",
      "ValueError: Debe ingresar Mayor o Menor\n",
      "\n",
      "======================================================================\n",
      "ERROR: test_Valor_Modal_con_Strings (__main__.CajaNegraTest)\n",
      "----------------------------------------------------------------------\n",
      "Traceback (most recent call last):\n",
      "  File \"c:\\Users\\Admin\\Desktop\\Python-Prep\\08 - Error Handling\\Matematicas.py\", line 9, in __init__\n",
      "    assert type(elemento) == int or type(elemento) == float, f\"La lista solo debe estar compuesta por numeros enteros o decimales\"\n",
      "AssertionError: La lista solo debe estar compuesta por numeros enteros o decimales\n",
      "\n",
      "During handling of the above exception, another exception occurred:\n",
      "\n",
      "Traceback (most recent call last):\n",
      "  File \"C:\\Users\\Admin\\AppData\\Local\\Temp\\ipykernel_8468\\161769108.py\", line 16, in test_Valor_Modal_con_Strings\n",
      "    lista_test= M.Matematicas ([\"10\", \"Adios\"])\n",
      "  File \"c:\\Users\\Admin\\Desktop\\Python-Prep\\08 - Error Handling\\Matematicas.py\", line 12, in __init__\n",
      "    raise ValueError(\"La lista no puede estar vacia\")\n",
      "ValueError: La lista no puede estar vacia\n",
      "\n",
      "----------------------------------------------------------------------\n",
      "Ran 6 tests in 0.035s\n",
      "\n",
      "FAILED (errors=3)\n"
     ]
    },
    {
     "name": "stdout",
     "output_type": "stream",
     "text": [
      "0 False\n",
      "1 False\n",
      "2 True\n",
      "3 True\n"
     ]
    },
    {
     "data": {
      "text/plain": [
       "<unittest.main.TestProgram at 0x247ff838fd0>"
      ]
     },
     "execution_count": 5,
     "metadata": {},
     "output_type": "execute_result"
    }
   ],
   "source": [
    "class CajaCristalTest (unittest.TestCase):\n",
    "    def test_Verificar_Primos_Lista(self):\n",
    "        lista_prueba = M.Matematicas([10, 8, 13, 17])\n",
    "        lista_prueba.esPrimoLista()\n",
    "\n",
    "unittest.main(argv=[\"\"], verbosity = 2, exit=False)"
   ]
  },
  {
   "cell_type": "markdown",
   "metadata": {},
   "source": [
    "7) Agregar casos de pruebas para el método conversion_grados()"
   ]
  },
  {
   "cell_type": "code",
   "execution_count": 11,
   "metadata": {},
   "outputs": [
    {
     "name": "stderr",
     "output_type": "stream",
     "text": [
      "test_Conversion_Temperatura (__main__.CajaCristalTest) ... ok\n",
      "test_Creacion_de_Objeto_Correcta (__main__.CajaNegraTest) ... ok\n",
      "test_Creacion_de_Objeto_Vacio (__main__.CajaNegraTest) ... ok\n",
      "test_Creacion_de_Objeto_con_Strings (__main__.CajaNegraTest) ... ERROR\n",
      "test_Valor_Modal_con_Parametro_Equivocado (__main__.CajaNegraTest) ... ERROR\n",
      "test_Valor_Modal_con_Strings (__main__.CajaNegraTest) ... ERROR\n",
      "\n",
      "======================================================================\n",
      "ERROR: test_Creacion_de_Objeto_con_Strings (__main__.CajaNegraTest)\n",
      "----------------------------------------------------------------------\n",
      "Traceback (most recent call last):\n",
      "  File \"c:\\Users\\Admin\\Desktop\\Python-Prep\\08 - Error Handling\\Matematicas.py\", line 9, in __init__\n",
      "    assert type(elemento) == int or type(elemento) == float, f\"La lista solo debe estar compuesta por numeros enteros o decimales\"\n",
      "AssertionError: La lista solo debe estar compuesta por numeros enteros o decimales\n",
      "\n",
      "During handling of the above exception, another exception occurred:\n",
      "\n",
      "Traceback (most recent call last):\n",
      "  File \"C:\\Users\\Admin\\AppData\\Local\\Temp\\ipykernel_8468\\161769108.py\", line 5, in test_Creacion_de_Objeto_con_Strings\n",
      "    lista_test = M.Matematicas([\"10\", \"Hola\"])\n",
      "  File \"c:\\Users\\Admin\\Desktop\\Python-Prep\\08 - Error Handling\\Matematicas.py\", line 12, in __init__\n",
      "    raise ValueError(\"La lista no puede estar vacia\")\n",
      "ValueError: La lista no puede estar vacia\n",
      "\n",
      "======================================================================\n",
      "ERROR: test_Valor_Modal_con_Parametro_Equivocado (__main__.CajaNegraTest)\n",
      "----------------------------------------------------------------------\n",
      "Traceback (most recent call last):\n",
      "  File \"C:\\Users\\Admin\\AppData\\Local\\Temp\\ipykernel_8468\\161769108.py\", line 21, in test_Valor_Modal_con_Parametro_Equivocado\n",
      "    lista_test.valorModal(\"Ma\")\n",
      "  File \"c:\\Users\\Admin\\Desktop\\Python-Prep\\08 - Error Handling\\Matematicas.py\", line 31, in valorModal\n",
      "    print(self.__valorModal(self.lista, eleccion))\n",
      "  File \"c:\\Users\\Admin\\Desktop\\Python-Prep\\08 - Error Handling\\Matematicas.py\", line 90, in __valorModal\n",
      "    raise ValueError(\"Debe ingresar \"\"Mayor\"\" o \"\"Menor\"\"\")\n",
      "ValueError: Debe ingresar Mayor o Menor\n",
      "\n",
      "======================================================================\n",
      "ERROR: test_Valor_Modal_con_Strings (__main__.CajaNegraTest)\n",
      "----------------------------------------------------------------------\n",
      "Traceback (most recent call last):\n",
      "  File \"c:\\Users\\Admin\\Desktop\\Python-Prep\\08 - Error Handling\\Matematicas.py\", line 9, in __init__\n",
      "    assert type(elemento) == int or type(elemento) == float, f\"La lista solo debe estar compuesta por numeros enteros o decimales\"\n",
      "AssertionError: La lista solo debe estar compuesta por numeros enteros o decimales\n",
      "\n",
      "During handling of the above exception, another exception occurred:\n",
      "\n",
      "Traceback (most recent call last):\n",
      "  File \"C:\\Users\\Admin\\AppData\\Local\\Temp\\ipykernel_8468\\161769108.py\", line 16, in test_Valor_Modal_con_Strings\n",
      "    lista_test= M.Matematicas ([\"10\", \"Adios\"])\n",
      "  File \"c:\\Users\\Admin\\Desktop\\Python-Prep\\08 - Error Handling\\Matematicas.py\", line 12, in __init__\n",
      "    raise ValueError(\"La lista no puede estar vacia\")\n",
      "ValueError: La lista no puede estar vacia\n",
      "\n",
      "----------------------------------------------------------------------\n",
      "Ran 6 tests in 0.028s\n",
      "\n",
      "FAILED (errors=3)\n"
     ]
    },
    {
     "name": "stdout",
     "output_type": "stream",
     "text": [
      "50.0\n",
      "96.8\n",
      "-12.222222222222221\n",
      "2.2222222222222223\n",
      "-263.15\n",
      "-237.14999999999998\n",
      "283.15\n",
      "309.15\n"
     ]
    },
    {
     "data": {
      "text/plain": [
       "<unittest.main.TestProgram at 0x247ff897520>"
      ]
     },
     "execution_count": 11,
     "metadata": {},
     "output_type": "execute_result"
    }
   ],
   "source": [
    "class CajaCristalTest (unittest.TestCase):\n",
    "    def test_Conversion_Temperatura(self):\n",
    "        lista_Prueba= M.Matematicas([10, 36])\n",
    "        lista_Prueba.convertidorTemperatura(\"C\", \"F\")\n",
    "        lista_Prueba.convertidorTemperatura(\"F\", \"C\")\n",
    "        lista_Prueba.convertidorTemperatura(\"K\", \"C\")\n",
    "        lista_Prueba.convertidorTemperatura(\"C\", \"K\")\n",
    "\n",
    "unittest.main(argv=\" \", verbosity=2, exit=False)"
   ]
  },
  {
   "cell_type": "markdown",
   "metadata": {},
   "source": [
    "8) Agregar casos de pruebas para el método factorial()"
   ]
  },
  {
   "cell_type": "code",
   "execution_count": 12,
   "metadata": {},
   "outputs": [
    {
     "name": "stderr",
     "output_type": "stream",
     "text": [
      "test_Conversion_Temperatura (__main__.CajaCristalTest) ... ok\n",
      "test_Factorial (__main__.CajaNegraTest) ... ok\n",
      "\n",
      "----------------------------------------------------------------------\n",
      "Ran 2 tests in 0.008s\n",
      "\n",
      "OK\n"
     ]
    },
    {
     "name": "stdout",
     "output_type": "stream",
     "text": [
      "50.0\n",
      "96.8\n",
      "-12.222222222222221\n",
      "2.2222222222222223\n",
      "-263.15\n",
      "-237.14999999999998\n",
      "283.15\n",
      "309.15\n",
      "2\n",
      "3628800\n"
     ]
    },
    {
     "data": {
      "text/plain": [
       "<unittest.main.TestProgram at 0x247ff6f86d0>"
      ]
     },
     "execution_count": 12,
     "metadata": {},
     "output_type": "execute_result"
    }
   ],
   "source": [
    "class CajaNegraTest (unittest.TestCase):\n",
    "    def test_Factorial(self):\n",
    "        lista_Prueba = M.Matematicas([2, 10])\n",
    "        lista_Prueba.factorial()\n",
    "\n",
    "unittest.main(argv=\" \", verbosity=2, exit=False)"
   ]
  }
 ],
 "metadata": {
  "kernelspec": {
   "display_name": "Python 3.10.7 64-bit",
   "language": "python",
   "name": "python3"
  },
  "language_info": {
   "codemirror_mode": {
    "name": "ipython",
    "version": 3
   },
   "file_extension": ".py",
   "mimetype": "text/x-python",
   "name": "python",
   "nbconvert_exporter": "python",
   "pygments_lexer": "ipython3",
   "version": "3.10.7"
  },
  "orig_nbformat": 4,
  "vscode": {
   "interpreter": {
    "hash": "369f2c481f4da34e4445cda3fffd2e751bd1c4d706f27375911949ba6bb62e1c"
   }
  }
 },
 "nbformat": 4,
 "nbformat_minor": 2
}
