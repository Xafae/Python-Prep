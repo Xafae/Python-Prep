{
 "cells": [
  {
   "cell_type": "markdown",
   "metadata": {},
   "source": [
    "1) Crear la clase vehículo que contenga los atributos:<br>\n",
    "Color<br>\n",
    "Si es moto, auto, camioneta ó camión<br>\n",
    "Cilindrada del motor"
   ]
  },
  {
   "cell_type": "code",
   "execution_count": 1,
   "metadata": {},
   "outputs": [],
   "source": [
    "class Vehiculo:\n",
    "\n",
    "    def __init__ (self, color, tipo, cilindrada):\n",
    "        self.color= color\n",
    "        self.tipo = tipo\n",
    "        self.cilindrada= cilindrada\n",
    "        self.velocidad = 0\n",
    "        self.direccion = \"Al frente\"\n",
    "\n",
    "    def Acelerar(self, velocidad):\n",
    "        self.velocidad += velocidad \n",
    "    \n",
    "    def Frenar(self):\n",
    "        self.velocidad = 0\n",
    "    \n",
    "    def Doblar (self,direccion):\n",
    "        if (direccion == \"Derecha\" and self.direccion == \"Al Frente\"):\n",
    "            self.direccion== direccion\n",
    "        elif (direccion == \"Derecha\" and self.direccion == \"Izquierda\"):\n",
    "            self.direccion== \"Al Frente\"\n",
    "        elif (direccion == \"izquierda\" and self.direccion == \"Al Frente\"):\n",
    "            self.direccion= direccion\n",
    "        elif (direccion == \"Izquierda\" and self.direccion == \"Derecha\"):\n",
    "            self.direccion = \"Al Frente\"\n",
    "\n",
    "    def Estado(self):\n",
    "        print (\"Mi velocidad es \" + str(self.velocidad) + \" y voy hacia \" + self.direccion)\n",
    "\n",
    "    def Presentacion(self):\n",
    "        print (\"Soy color \" + self.color + \" soy un vehiculo tipo \" + self.tipo + \" y mis cilindradas son \" + str(self.cilindrada))"
   ]
  },
  {
   "cell_type": "markdown",
   "metadata": {},
   "source": [
    "2) A la clase Vehiculo creada en el punto 1, agregar los siguientes métodos:<br>\n",
    "Acelerar<br>\n",
    "Frenar<br>\n",
    "Doblar<br>"
   ]
  },
  {
   "cell_type": "markdown",
   "metadata": {},
   "source": [
    "3) Instanciar 3 objetos de la clase vehículo y ejecutar sus métodos, probar luego el resultado"
   ]
  },
  {
   "cell_type": "code",
   "execution_count": 2,
   "metadata": {},
   "outputs": [
    {
     "name": "stdout",
     "output_type": "stream",
     "text": [
      "Azul\n"
     ]
    }
   ],
   "source": [
    "primer_Vehiculo = Vehiculo (\"Azul\", \"Moto\", 250)\n",
    "segundo_Vehiculo = Vehiculo (\"Rojo\", \"Auto\", 350)\n",
    "tercer_Vehiculo = Vehiculo (\"Blanco\", \"Camion\", 750)\n",
    "\n",
    "print(primer_Vehiculo.color)\n",
    "segundo_Vehiculo.Acelerar(60)\n",
    "tercer_Vehiculo.Doblar(\"Derecha\")"
   ]
  },
  {
   "cell_type": "markdown",
   "metadata": {},
   "source": [
    "4) Agregar a la clase Vehiculo, un método que muestre su estado, es decir, a que velocidad se encuentra y su dirección. Y otro método que muestre color, tipo y cilindrada"
   ]
  },
  {
   "cell_type": "code",
   "execution_count": 3,
   "metadata": {},
   "outputs": [
    {
     "name": "stdout",
     "output_type": "stream",
     "text": [
      "Mi velocidad es 0 y voy hacia Al frente\n",
      "Mi velocidad es 60 y voy hacia Al frente\n",
      "Mi velocidad es 0 y voy hacia Al frente\n",
      "Soy color Azul soy un vehiculo tipo Moto y mis cilindradas son 250\n",
      "Soy color Rojo soy un vehiculo tipo Auto y mis cilindradas son 350\n",
      "Soy color Blanco soy un vehiculo tipo Camion y mis cilindradas son 750\n"
     ]
    }
   ],
   "source": [
    "primer_Vehiculo.Estado()\n",
    "segundo_Vehiculo.Estado()\n",
    "tercer_Vehiculo.Estado()\n",
    "\n",
    "primer_Vehiculo.Presentacion()\n",
    "segundo_Vehiculo.Presentacion()\n",
    "tercer_Vehiculo.Presentacion()"
   ]
  },
  {
   "cell_type": "markdown",
   "metadata": {},
   "source": [
    "5) Crear una clase que permita utilizar las funciones creadas en la práctica del módulo 6<br>\n",
    "Verificar Primo<br>\n",
    "Valor modal<br>\n",
    "Conversión grados<br>\n",
    "Factorial<br>"
   ]
  },
  {
   "cell_type": "code",
   "execution_count": 11,
   "metadata": {},
   "outputs": [],
   "source": [
    "class Matematicas:\n",
    "    def __init__(self) -> None:\n",
    "        pass\n",
    "\n",
    "    def factorial (self, numRecibido):\n",
    "        factorial = 1\n",
    "        if (numRecibido>0 and type(numRecibido)!=float):\n",
    "            while (numRecibido >0):\n",
    "                factorial = factorial * numRecibido\n",
    "                numRecibido -= 1\n",
    "            return factorial\n",
    "        else:\n",
    "            print (\"El numero debe ser un entero positivo\")\n",
    "    \n",
    "    def convertidorTemperatura(self, value, origen, destino):\n",
    "        if (origen ==\"C\" and destino ==\"F\"):\n",
    "            return (value * 9/5) + 32\n",
    "        elif (origen == \"C\" and destino == \"K\"):\n",
    "            return value + 273.15\n",
    "        elif (origen == \"F\" and destino == \"C\"):\n",
    "            return (value - 32) * 5/9\n",
    "        elif (origen == \"F\" and destino == \"K\"):\n",
    "            return (value + 459.67) * 5/9\n",
    "        elif (origen == \"K\" and destino == \"F\"):\n",
    "            return 9/5*(value - 273.15) +32\n",
    "        else:\n",
    "            return value - 273.15\n",
    "    \n",
    "    def valorModal (self, lista, eleccion):\n",
    "        contadorMenor = 0\n",
    "        contadorMayor = 0\n",
    "        finderMenor = \"\"\n",
    "        finderMayor = \"\"\n",
    "        for elemento in lista:\n",
    "            if (lista.count(elemento) > contadorMayor):\n",
    "                if (contadorMenor < contadorMayor):\n",
    "                    contadorMenor = contadorMayor\n",
    "                    finderMenor = finderMayor\n",
    "                contadorMayor = lista.count(elemento)\n",
    "                finderMayor = elemento\n",
    "        if(eleccion == \"Mayor\"):\n",
    "            return \"El elemento es \" + str(finderMayor) + \" y se repite \" + str(contadorMayor) + \" veces\"\n",
    "        else:\n",
    "            return \"El elemento es \" + str(finderMenor) + \" y se repite \" + str(contadorMenor) + \" veces\"\n",
    "\n",
    "    def esPrimo(self, num):\n",
    "        isPrimo = False\n",
    "        if (num > 1):\n",
    "            for x in range(2, num):\n",
    "                if (num%x==0):\n",
    "                    isPrimo =False\n",
    "                    break\n",
    "                else:\n",
    "                    isPrimo= True                \n",
    "        return isPrimo"
   ]
  },
  {
   "cell_type": "markdown",
   "metadata": {},
   "source": [
    "6) Probar las funciones incorporadas en la clase del punto 5"
   ]
  },
  {
   "cell_type": "code",
   "execution_count": 14,
   "metadata": {},
   "outputs": [
    {
     "name": "stdout",
     "output_type": "stream",
     "text": [
      "308.15\n",
      "5040\n",
      "True\n"
     ]
    },
    {
     "data": {
      "text/plain": [
       "'El elemento es 80 y se repite 2 veces'"
      ]
     },
     "execution_count": 14,
     "metadata": {},
     "output_type": "execute_result"
    }
   ],
   "source": [
    "math_prueba = Matematicas()\n",
    "print (math_prueba.convertidorTemperatura(35, \"C\", \"K\"))\n",
    "print (math_prueba.factorial(7))\n",
    "print (math_prueba.esPrimo(17))\n",
    "lista_prueba = [50, 80, 12, 80, 15, 98, 80.5]\n",
    "math_prueba.valorModal (lista_prueba, \"Mayor\")"
   ]
  },
  {
   "cell_type": "markdown",
   "metadata": {},
   "source": [
    "7) Es necesario que la clase creada en el punto 5 contenga una lista, sobre la cual se aplquen las funciones incorporadas"
   ]
  },
  {
   "cell_type": "code",
   "execution_count": 99,
   "metadata": {},
   "outputs": [],
   "source": [
    "from pickle import STOP\n",
    "\n",
    "\n",
    "class Matematicas:\n",
    "    def __init__(self, lista) -> None:\n",
    "        self.lista = lista\n",
    "        pass\n",
    "\n",
    "    def esPrimo(self):\n",
    "        for elemento in self.lista:\n",
    "            if (self.__esPrimo(elemento)!= \"Error\"):\n",
    "                if (self.__esPrimo(elemento)):\n",
    "                    print(str(elemento) + \" Es Primo\")\n",
    "                else:\n",
    "                    print(str(elemento) + \" NO es primo\")\n",
    "\n",
    "    def factorial (self):\n",
    "        for elemento in self.lista:\n",
    "            if (self.__factorial(elemento)!=\"Error\"):\n",
    "                print(self.__factorial(elemento))\n",
    "\n",
    "    def valorModal(self, eleccion):\n",
    "        if (eleccion==\"Mayor\"):\n",
    "            print(self.__valorModal(self.lista, \"Mayor\"))\n",
    "        else:\n",
    "            print(self.__valorModal(self.lista, \"Menor\"))\n",
    "\n",
    "    def convertidorTemperatura(self, origen, destino):\n",
    "        for elemento in self.lista:\n",
    "            print (self.__convertidorTemperatura(elemento, origen, destino))\n",
    "\n",
    "    def __factorial (self, numRecibido):\n",
    "        factorial = 1\n",
    "        if (numRecibido>0 and type(numRecibido)==int):\n",
    "            while (numRecibido >0):\n",
    "                factorial = factorial * numRecibido\n",
    "                numRecibido -= 1\n",
    "            return factorial\n",
    "        else:\n",
    "            print (\"El numero debe ser un entero positivo\")\n",
    "            return \"Error\"\n",
    "    \n",
    "    def __convertidorTemperatura(self, value, origen, destino):\n",
    "        if (origen ==\"C\" and destino ==\"F\"):\n",
    "            return (value * 9/5) + 32\n",
    "        elif (origen == \"C\" and destino == \"K\"):\n",
    "            return value + 273.15\n",
    "        elif (origen == \"F\" and destino == \"C\"):\n",
    "            return (value - 32) * 5/9\n",
    "        elif (origen == \"F\" and destino == \"K\"):\n",
    "            return (value + 459.67) * 5/9\n",
    "        elif (origen == \"K\" and destino == \"F\"):\n",
    "            return 9/5*(value - 273.15) +32\n",
    "        else:\n",
    "            return value - 273.15\n",
    "    \n",
    "    def __valorModal (self, lista, eleccion):\n",
    "        contadorMenor = 0\n",
    "        contadorMayor = 0\n",
    "        finderMenor = \"\"\n",
    "        finderMayor = \"\"\n",
    "        for elemento in lista:\n",
    "            if (lista.count(elemento) > contadorMayor):\n",
    "                if (contadorMenor < contadorMayor):\n",
    "                    contadorMenor = contadorMayor\n",
    "                    finderMenor = finderMayor\n",
    "                contadorMayor = lista.count(elemento)\n",
    "                finderMayor = elemento\n",
    "        if(eleccion == \"Mayor\"):\n",
    "            return \"El elemento es \" + str(finderMayor) + \" y se repite \" + str(contadorMayor) + \" veces\"\n",
    "        else:\n",
    "            return \"El elemento es \" + str(finderMenor) + \" y se repite \" + str(contadorMenor) + \" veces\"\n",
    "\n",
    "    def __esPrimo(self, num):\n",
    "        isPrimo = False\n",
    "        if (num > 1 and type(num)==int):\n",
    "            for x in range(2, num):\n",
    "                if (num%x==0):\n",
    "                    isPrimo =False\n",
    "                    break\n",
    "                else:\n",
    "                    isPrimo= True          \n",
    "            return isPrimo\n",
    "        else:\n",
    "            print (str(num) + \" No se puede operar con este numero\")\n",
    "            return \"Error\"\n"
   ]
  },
  {
   "cell_type": "code",
   "execution_count": 100,
   "metadata": {},
   "outputs": [
    {
     "name": "stdout",
     "output_type": "stream",
     "text": [
      "122.0\n",
      "176.0\n",
      "53.6\n",
      "176.0\n",
      "59.0\n",
      "208.4\n",
      "176.9\n"
     ]
    }
   ],
   "source": [
    "mate_lista = Matematicas(lista_prueba)\n",
    "\n",
    "mate_lista.convertidorTemperatura(\"C\", \"F\")"
   ]
  },
  {
   "cell_type": "code",
   "execution_count": 101,
   "metadata": {},
   "outputs": [
    {
     "name": "stdout",
     "output_type": "stream",
     "text": [
      "50 NO es primo\n",
      "80 NO es primo\n",
      "12 NO es primo\n",
      "80 NO es primo\n",
      "15 NO es primo\n",
      "98 NO es primo\n",
      "80.5 No se puede operar con este numero\n"
     ]
    }
   ],
   "source": [
    "mate_lista.esPrimo()"
   ]
  },
  {
   "cell_type": "code",
   "execution_count": 102,
   "metadata": {},
   "outputs": [
    {
     "name": "stdout",
     "output_type": "stream",
     "text": [
      "El elemento es 80 y se repite 2 veces\n"
     ]
    }
   ],
   "source": [
    "mate_lista.valorModal(\"Mayor\")"
   ]
  },
  {
   "cell_type": "code",
   "execution_count": 103,
   "metadata": {},
   "outputs": [
    {
     "name": "stdout",
     "output_type": "stream",
     "text": [
      "30414093201713378043612608166064768844377641568960512000000000000\n",
      "71569457046263802294811533723186532165584657342365752577109445058227039255480148842668944867280814080000000000000000000\n",
      "479001600\n",
      "71569457046263802294811533723186532165584657342365752577109445058227039255480148842668944867280814080000000000000000000\n",
      "1307674368000\n",
      "9426890448883247745626185743057242473809693764078951663494238777294707070023223798882976159207729119823605850588608460429412647567360000000000000000000000\n",
      "El numero debe ser un entero positivo\n"
     ]
    }
   ],
   "source": [
    "mate_lista.factorial()"
   ]
  },
  {
   "cell_type": "markdown",
   "metadata": {},
   "source": [
    "8) Crear un archivo .py aparte y ubicar allí la clase generada en el punto anterior. Luego realizar la importación del módulo y probar alguna de sus funciones"
   ]
  },
  {
   "cell_type": "code",
   "execution_count": 110,
   "metadata": {},
   "outputs": [
    {
     "name": "stdout",
     "output_type": "stream",
     "text": [
      "41.0\n",
      "37.4\n",
      "37.4\n",
      "38.3\n",
      "23.0\n",
      "33.8\n",
      "50.0\n",
      "5 Es Primo\n",
      "3 Es Primo\n",
      "3 Es Primo\n",
      "3.5 No se puede operar con este numero\n",
      "-5 No se puede operar con este numero\n",
      "1 No se puede operar con este numero\n",
      "10 NO es primo\n"
     ]
    }
   ],
   "source": [
    "from Matematicas import *\n",
    "mate_prueba2 = Matematicas([5, 3, 3, 3.5, -5, 1, 10])\n",
    "\n",
    "mate_prueba2.convertidorTemperatura(\"C\", \"F\")\n",
    "mate_prueba2.esPrimo()"
   ]
  }
 ],
 "metadata": {
  "kernelspec": {
   "display_name": "Python 3.10.7 64-bit",
   "language": "python",
   "name": "python3"
  },
  "language_info": {
   "codemirror_mode": {
    "name": "ipython",
    "version": 3
   },
   "file_extension": ".py",
   "mimetype": "text/x-python",
   "name": "python",
   "nbconvert_exporter": "python",
   "pygments_lexer": "ipython3",
   "version": "3.10.7"
  },
  "orig_nbformat": 4,
  "vscode": {
   "interpreter": {
    "hash": "369f2c481f4da34e4445cda3fffd2e751bd1c4d706f27375911949ba6bb62e1c"
   }
  }
 },
 "nbformat": 4,
 "nbformat_minor": 2
}
