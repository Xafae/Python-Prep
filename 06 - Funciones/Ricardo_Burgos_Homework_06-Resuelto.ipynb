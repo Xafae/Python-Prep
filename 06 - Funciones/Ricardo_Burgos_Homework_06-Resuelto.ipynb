{
 "cells": [
  {
   "cell_type": "markdown",
   "metadata": {},
   "source": [
    "## Funciones"
   ]
  },
  {
   "cell_type": "markdown",
   "metadata": {},
   "source": [
    "1) Crear una función que reciba un número como parámetro y devuelva si True si es primo y False si no lo es"
   ]
  },
  {
   "cell_type": "code",
   "execution_count": 56,
   "metadata": {},
   "outputs": [
    {
     "data": {
      "text/plain": [
       "True"
      ]
     },
     "execution_count": 56,
     "metadata": {},
     "output_type": "execute_result"
    }
   ],
   "source": [
    "def esPrimo(num):\n",
    "    isPrimo = False\n",
    "    if (num > 1):\n",
    "        for x in range(2, num):\n",
    "            if (num%x==0):\n",
    "                isPrimo =False\n",
    "                break\n",
    "            else:\n",
    "                isPrimo= True                \n",
    "    return isPrimo\n",
    "\n",
    "esPrimo(37)"
   ]
  },
  {
   "cell_type": "markdown",
   "metadata": {},
   "source": [
    "2) Utilizando la función del punto 1, realizar otra función que reciba de parámetro una lista de números y devuelva sólo aquellos que son primos en otra lista"
   ]
  },
  {
   "cell_type": "code",
   "execution_count": 58,
   "metadata": {},
   "outputs": [
    {
     "name": "stdout",
     "output_type": "stream",
     "text": [
      "[89, 79, 53]\n"
     ]
    }
   ],
   "source": [
    "def encontrarPrimos(lista):\n",
    "    lista_aux= []\n",
    "    for elemento in lista:\n",
    "        if (esPrimo(elemento)):\n",
    "            lista_aux.append(elemento)\n",
    "    return lista_aux\n",
    "\n",
    "lista_Prueba= [55, 89, 79, 53, 99]\n",
    "print(encontrarPrimos(lista_Prueba))"
   ]
  },
  {
   "cell_type": "markdown",
   "metadata": {},
   "source": [
    "3) Crear una función que al recibir una lista de números, devuelva el que más se repite y cuántas veces lo hace. Si hay más de un \"más repetido\", que devuelva cualquiera"
   ]
  },
  {
   "cell_type": "code",
   "execution_count": 65,
   "metadata": {},
   "outputs": [
    {
     "name": "stdout",
     "output_type": "stream",
     "text": [
      "El elemento es 13 y se repite 3 veces\n"
     ]
    }
   ],
   "source": [
    "def encontrarRepetido (lista):\n",
    "    contador = 0\n",
    "    finder = \"\"\n",
    "    for elemento in lista:\n",
    "        if (lista.count(elemento) > contador):\n",
    "            contador = lista.count(elemento)\n",
    "            finder = elemento\n",
    "        elif (contador < lista.count(elemento)):\n",
    "            contador = lista.count(elemento)\n",
    "            finder = elemento\n",
    "    return \"El elemento es \" + str(finder) + \" y se repite \" + str(contador) + \" veces\"\n",
    "\n",
    "lista_Prueba2 = [13, 25, 13, 12, 50, 13]\n",
    "print(encontrarRepetido(lista_Prueba2))"
   ]
  },
  {
   "cell_type": "markdown",
   "metadata": {},
   "source": [
    "4) A la función del punto 3, agregar un parámetro más, que permita elegir si se requiere el menor o el mayor de los mas repetidos."
   ]
  },
  {
   "cell_type": "code",
   "execution_count": 77,
   "metadata": {},
   "outputs": [
    {
     "name": "stdout",
     "output_type": "stream",
     "text": [
      "El elemento es 14 y se repite 3 veces\n"
     ]
    }
   ],
   "source": [
    "def encontrarRepetidoSelectivo (lista, eleccion):\n",
    "    contadorMenor = 0\n",
    "    contadorMayor = 0\n",
    "    finderMenor = \"\"\n",
    "    finderMayor = \"\"\n",
    "    for elemento in lista:\n",
    "        if (lista.count(elemento) > contadorMayor):\n",
    "            if (contadorMenor < contadorMayor):\n",
    "                contadorMenor = contadorMayor\n",
    "                finderMenor = finderMayor\n",
    "            contadorMayor = lista.count(elemento)\n",
    "            finderMayor = elemento\n",
    "    if(eleccion == \"Mayor\"):\n",
    "        return \"El elemento es \" + str(finderMayor) + \" y se repite \" + str(contadorMayor) + \" veces\"\n",
    "    else:\n",
    "        return \"El elemento es \" + str(finderMenor) + \" y se repite \" + str(contadorMenor) + \" veces\"\n",
    "\n",
    "lista_Prueba3 = [1, 50, 15, 14, 14, 50, 15, 14, 1]\n",
    "print(encontrarRepetidoSelectivo(lista_Prueba3, \"Mayor\"))"
   ]
  },
  {
   "cell_type": "markdown",
   "metadata": {},
   "source": [
    "5) Crear una función que convierta entre grados Celsius, Farenheit y Kelvin<br>\n",
    "Fórmula 1\t: (°C × 9/5) + 32 = °F<br>\n",
    "Fórmula 2\t: °C + 273.15 = °K<br>\n",
    "Debe recibir 3 parámetros: el valor, la medida de orígen y la medida de destino"
   ]
  },
  {
   "cell_type": "code",
   "execution_count": 4,
   "metadata": {},
   "outputs": [
    {
     "name": "stdout",
     "output_type": "stream",
     "text": [
      "96.8\n",
      "309.15\n",
      "2.2222222222222223\n",
      "275.3722222222222\n",
      "-394.86999999999995\n",
      "-237.14999999999998\n"
     ]
    }
   ],
   "source": [
    "def convertidorTemperatura(value, origen, destino):\n",
    "    if (origen ==\"C\" and destino ==\"F\"):\n",
    "        return (value * 9/5) + 32\n",
    "    elif (origen == \"C\" and destino == \"K\"):\n",
    "        return value + 273.15\n",
    "    elif (origen == \"F\" and destino == \"C\"):\n",
    "        return (value - 32) * 5/9\n",
    "    elif (origen == \"F\" and destino == \"K\"):\n",
    "        return (value + 459.67) * 5/9\n",
    "    elif (origen == \"K\" and destino == \"F\"):\n",
    "        return 9/5*(value - 273.15) +32\n",
    "    else:\n",
    "        return value - 273.15\n",
    "\n",
    "print(convertidorTemperatura (36, \"C\", \"F\"))\n",
    "print(convertidorTemperatura (36, \"C\", \"K\"))\n",
    "print(convertidorTemperatura (36, \"F\", \"C\"))\n",
    "print(convertidorTemperatura (36, \"F\", \"K\"))\n",
    "print(convertidorTemperatura (36, \"K\", \"F\"))\n",
    "print(convertidorTemperatura (36, \"K\", \"C\"))"
   ]
  },
  {
   "cell_type": "markdown",
   "metadata": {},
   "source": [
    "6) Iterando una lista con los tres valores posibles de temperatura que recibe la función del punto 5, hacer un print para cada combinación de los mismos:"
   ]
  },
  {
   "cell_type": "code",
   "execution_count": 6,
   "metadata": {},
   "outputs": [
    {
     "name": "stdout",
     "output_type": "stream",
     "text": [
      "96.8\n",
      "309.15\n",
      "2.2222222222222223\n",
      "275.3722222222222\n",
      "-237.14999999999998\n",
      "-394.86999999999995\n"
     ]
    }
   ],
   "source": [
    "temperaturas = [\"C\", \"F\", \"K\"]\n",
    "for elemento in temperaturas:\n",
    "    for segundo in temperaturas:\n",
    "        if (elemento != segundo):\n",
    "            print (convertidorTemperatura(36, elemento, segundo))"
   ]
  },
  {
   "cell_type": "markdown",
   "metadata": {},
   "source": [
    "7) Armar una función que devuelva el factorial de un número. Tener en cuenta que el usuario puede equivocarse y enviar de parámetro un número no entero o negativo"
   ]
  },
  {
   "cell_type": "code",
   "execution_count": 10,
   "metadata": {},
   "outputs": [
    {
     "name": "stdout",
     "output_type": "stream",
     "text": [
      "El numero debe ser un entero positivo\n",
      "El numero debe ser un entero positivo\n",
      "120\n"
     ]
    }
   ],
   "source": [
    "def factorial (numRecibido):\n",
    "    factorial = 1\n",
    "    if (numRecibido>0 and type(numRecibido)!=float):\n",
    "        while (numRecibido >0):\n",
    "            factorial = factorial * numRecibido\n",
    "            numRecibido -= 1\n",
    "        return factorial\n",
    "    else:\n",
    "        return \"El numero debe ser un entero positivo\"\n",
    "print (factorial (-5))\n",
    "print (factorial (7.5))\n",
    "print (factorial (5))\n"
   ]
  }
 ],
 "metadata": {
  "kernelspec": {
   "display_name": "Python 3.10.7 64-bit",
   "language": "python",
   "name": "python3"
  },
  "language_info": {
   "codemirror_mode": {
    "name": "ipython",
    "version": 3
   },
   "file_extension": ".py",
   "mimetype": "text/x-python",
   "name": "python",
   "nbconvert_exporter": "python",
   "pygments_lexer": "ipython3",
   "version": "3.10.7"
  },
  "orig_nbformat": 4,
  "vscode": {
   "interpreter": {
    "hash": "369f2c481f4da34e4445cda3fffd2e751bd1c4d706f27375911949ba6bb62e1c"
   }
  }
 },
 "nbformat": 4,
 "nbformat_minor": 2
}
