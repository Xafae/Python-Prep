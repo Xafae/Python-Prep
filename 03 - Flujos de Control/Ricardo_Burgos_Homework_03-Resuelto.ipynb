{
 "cells": [
  {
   "cell_type": "markdown",
   "metadata": {},
   "source": [
    "## Flujos de Control"
   ]
  },
  {
   "cell_type": "markdown",
   "metadata": {},
   "source": [
    "1) Crear una variable que contenga un elemento del conjunto de números enteros y luego imprimir por pantalla si es mayor o menor a cero"
   ]
  },
  {
   "cell_type": "code",
   "execution_count": 6,
   "metadata": {},
   "outputs": [
    {
     "name": "stdout",
     "output_type": "stream",
     "text": [
      "Es mayor que cero\n"
     ]
    }
   ],
   "source": [
    "prueba = 50\n",
    "if (prueba > 0):\n",
    "    print(\"Es mayor que cero\")\n",
    "elif (prueba < 0):\n",
    "    print(\"Es menor a cero\")\n",
    "else:\n",
    "    print(\"Es igual a cero\")"
   ]
  },
  {
   "cell_type": "markdown",
   "metadata": {},
   "source": [
    "2) Crear dos variables y un condicional que informe si son del mismo tipo de dato"
   ]
  },
  {
   "cell_type": "code",
   "execution_count": 1,
   "metadata": {},
   "outputs": [
    {
     "name": "stdout",
     "output_type": "stream",
     "text": [
      "Son de diferente tipo\n"
     ]
    }
   ],
   "source": [
    "texto= \"Soy una palabra\"\n",
    "numero= 20\n",
    "if (type(texto) == type(numero)):\n",
    "    print (\"Son el mismo tipo\")\n",
    "else:\n",
    "    print (\"Son de diferente tipo\")"
   ]
  },
  {
   "cell_type": "markdown",
   "metadata": {},
   "source": [
    "3) Para los valores enteros del 1 al 20, imprimir por pantalla si es par o impar"
   ]
  },
  {
   "cell_type": "code",
   "execution_count": null,
   "metadata": {},
   "outputs": [],
   "source": [
    "for i in range(1, 21):\n",
    "    if (i%2 == 0):\n",
    "        print (str(i) + \" Es par\")\n",
    "    else:\n",
    "        print (str(i) + \" Es impar\")"
   ]
  },
  {
   "cell_type": "markdown",
   "metadata": {},
   "source": [
    "4) En un ciclo for mostrar para los valores entre 0 y 5 el resultado de elevarlo a la potencia igual a 3"
   ]
  },
  {
   "cell_type": "code",
   "execution_count": 6,
   "metadata": {},
   "outputs": [
    {
     "name": "stdout",
     "output_type": "stream",
     "text": [
      "0\n",
      "1\n",
      "8\n",
      "27\n",
      "64\n",
      "125\n"
     ]
    }
   ],
   "source": [
    "for x in range(0,6):\n",
    "    print (x**3)"
   ]
  },
  {
   "cell_type": "markdown",
   "metadata": {},
   "source": [
    "5) Crear una variable que contenga un número entero y realizar un ciclo for la misma cantidad de ciclos"
   ]
  },
  {
   "cell_type": "code",
   "execution_count": 12,
   "metadata": {},
   "outputs": [
    {
     "name": "stdout",
     "output_type": "stream",
     "text": [
      "0\n",
      "1\n",
      "2\n",
      "3\n"
     ]
    }
   ],
   "source": [
    "numCiclo= 4\n",
    "for i in range(numCiclo):\n",
    "    print (i)"
   ]
  },
  {
   "cell_type": "markdown",
   "metadata": {},
   "source": [
    "6) Utilizar un ciclo while para realizar el factorial de un número guardado en una variable, sólo si la variable contiene un número entero mayor a 0"
   ]
  },
  {
   "cell_type": "code",
   "execution_count": 24,
   "metadata": {},
   "outputs": [
    {
     "name": "stdout",
     "output_type": "stream",
     "text": [
      "120\n"
     ]
    }
   ],
   "source": [
    "factorial = 1\n",
    "numRecibido = 5\n",
    "if (numRecibido>0):\n",
    "    while (numRecibido !=0):\n",
    "        factorial = factorial * numRecibido\n",
    "        numRecibido -= 1\n",
    "        if (numRecibido==0):\n",
    "            break\n",
    "print(str(factorial))"
   ]
  },
  {
   "cell_type": "markdown",
   "metadata": {},
   "source": [
    "7) Crear un ciclo for dentro de un ciclo while"
   ]
  },
  {
   "cell_type": "code",
   "execution_count": 8,
   "metadata": {},
   "outputs": [
    {
     "name": "stdout",
     "output_type": "stream",
     "text": [
      "Ciclo while 0\n",
      "Ciclo For 0\n",
      "Ciclo while 1\n",
      "Ciclo For 0\n",
      "Ciclo For 1\n",
      "Ciclo while 2\n",
      "Ciclo For 0\n",
      "Ciclo For 1\n",
      "Ciclo For 2\n",
      "Ciclo while 3\n",
      "Ciclo For 0\n",
      "Ciclo For 1\n",
      "Ciclo For 2\n",
      "Ciclo For 3\n",
      "Ciclo while 4\n",
      "Ciclo For 0\n",
      "Ciclo For 1\n",
      "Ciclo For 2\n",
      "Ciclo For 3\n",
      "Ciclo For 4\n",
      "Ciclo while 5\n"
     ]
    }
   ],
   "source": [
    "n = 0\n",
    "while (n<=5):\n",
    "    for x in range(n):\n",
    "        print(\"Ciclo For \" + str(x))\n",
    "    print(\"Ciclo while \" + str(n))\n",
    "    n+=1"
   ]
  },
  {
   "cell_type": "markdown",
   "metadata": {},
   "source": [
    "8) Crear un ciclo while dentro de un ciclo for"
   ]
  },
  {
   "cell_type": "code",
   "execution_count": 24,
   "metadata": {},
   "outputs": [
    {
     "name": "stdout",
     "output_type": "stream",
     "text": [
      "Ciclo While 0\n",
      "Ciclo While 1\n",
      "Ciclo While 2\n",
      "Ciclo While 3\n",
      "Ciclo While 4\n",
      "Ciclo For 0\n",
      "Ciclo While 1\n",
      "Ciclo While 2\n",
      "Ciclo While 3\n",
      "Ciclo While 4\n",
      "Ciclo For 1\n",
      "Ciclo While 2\n",
      "Ciclo While 3\n",
      "Ciclo While 4\n",
      "Ciclo For 2\n",
      "Ciclo While 3\n",
      "Ciclo While 4\n",
      "Ciclo For 3\n",
      "Ciclo While 4\n",
      "Ciclo For 4\n",
      "Ciclo For 5\n"
     ]
    }
   ],
   "source": [
    "n = 5\n",
    "for i in range(n+1):\n",
    "    helper = i\n",
    "    while (helper < n):\n",
    "        print(\"Ciclo While \" + str(helper))\n",
    "        helper +=1\n",
    "    print (\"Ciclo For \"+ str(i))"
   ]
  },
  {
   "cell_type": "markdown",
   "metadata": {},
   "source": [
    "9) Imprimir los números primos existentes entre 0 y 30"
   ]
  },
  {
   "cell_type": "code",
   "execution_count": 25,
   "metadata": {},
   "outputs": [
    {
     "name": "stdout",
     "output_type": "stream",
     "text": [
      "2\n",
      "3\n",
      "5\n",
      "7\n",
      "11\n",
      "13\n",
      "17\n",
      "19\n",
      "23\n",
      "29\n"
     ]
    }
   ],
   "source": [
    "num=30\n",
    "for i in range (2, num+1):\n",
    "    contador = 0\n",
    "    for j in range (2, i):\n",
    "        if (i%j==0):\n",
    "            contador +=1\n",
    "    if (contador < 1):\n",
    "        print(i)"
   ]
  },
  {
   "cell_type": "markdown",
   "metadata": {},
   "source": [
    "10) ¿Se puede mejorar el proceso del punto 9? Utilizar las sentencias break y/ó continue para tal fin"
   ]
  },
  {
   "cell_type": "code",
   "execution_count": 29,
   "metadata": {},
   "outputs": [
    {
     "name": "stdout",
     "output_type": "stream",
     "text": [
      "2\n",
      "3\n",
      "5\n",
      "7\n",
      "11\n",
      "13\n",
      "17\n",
      "19\n",
      "23\n",
      "29\n"
     ]
    }
   ],
   "source": [
    "for i in range (2, num+1):\n",
    "    contador = 0\n",
    "    for j in range (2, i-1):\n",
    "        if (i%j==0):\n",
    "            contador +=1\n",
    "        if (j > i//2):\n",
    "            break\n",
    "    if (contador < 1):\n",
    "        print(i)"
   ]
  },
  {
   "cell_type": "markdown",
   "metadata": {},
   "source": [
    "11) En los puntos 9 y 10, se diseño un código que encuentra números primos y además se lo optimizó. ¿Es posible saber en qué medida se optimizó?"
   ]
  },
  {
   "cell_type": "code",
   "execution_count": 34,
   "metadata": {},
   "outputs": [
    {
     "name": "stdout",
     "output_type": "stream",
     "text": [
      "2\n",
      "3\n",
      "5\n",
      "7\n",
      "11\n",
      "13\n",
      "17\n",
      "19\n",
      "23\n",
      "29\n",
      "Ciclos sin break 406\n"
     ]
    }
   ],
   "source": [
    "ciclo_sin_break =0\n",
    "for i in range (2, num+1):\n",
    "    contador = 0\n",
    "    for j in range (2, i):\n",
    "        if (i%j==0):\n",
    "            contador +=1\n",
    "        ciclo_sin_break +=1\n",
    "    if (contador < 1):\n",
    "        print(i)\n",
    "\n",
    "print (\"Ciclos sin break \" + str(ciclo_sin_break))"
   ]
  },
  {
   "cell_type": "code",
   "execution_count": 37,
   "metadata": {},
   "outputs": [
    {
     "name": "stdout",
     "output_type": "stream",
     "text": [
      "2\n",
      "3\n",
      "5\n",
      "7\n",
      "11\n",
      "13\n",
      "17\n",
      "19\n",
      "23\n",
      "29\n",
      "Ciclos con Break 196\n",
      "Se optimizo un 2%\n"
     ]
    }
   ],
   "source": [
    "ciclo_con_break =0\n",
    "num=30\n",
    "for i in range (2, num+1):\n",
    "    contador = 0\n",
    "    \n",
    "    for j in range (2, i):\n",
    "        if (i%j==0):\n",
    "            contador +=1\n",
    "        if (j > i//2):\n",
    "            break\n",
    "        ciclo_con_break +=1\n",
    "    if (contador < 1):\n",
    "        print(i)\n",
    "\n",
    "print (\"Ciclos con Break \" + str(ciclo_con_break))\n",
    "print (\"Se optimizo un \" + str(ciclo_sin_break/ciclo_con_break) + \"%\")"
   ]
  },
  {
   "cell_type": "markdown",
   "metadata": {},
   "source": [
    "12) Si la cantidad de números que se evalúa es mayor a treinta, esa optimización crece?"
   ]
  },
  {
   "cell_type": "code",
   "execution_count": 44,
   "metadata": {},
   "outputs": [
    {
     "name": "stdout",
     "output_type": "stream",
     "text": [
      "2\n",
      "3\n",
      "5\n",
      "7\n",
      "11\n",
      "13\n",
      "17\n",
      "19\n",
      "23\n",
      "29\n",
      "31\n",
      "37\n",
      "41\n",
      "43\n",
      "47\n",
      "53\n",
      "59\n",
      "61\n",
      "67\n",
      "71\n",
      "73\n",
      "79\n",
      "83\n",
      "89\n",
      "97\n",
      "101\n",
      "103\n",
      "107\n",
      "109\n",
      "113\n",
      "127\n",
      "131\n",
      "137\n",
      "139\n",
      "149\n",
      "151\n",
      "157\n",
      "163\n",
      "167\n",
      "173\n",
      "179\n",
      "181\n",
      "191\n",
      "193\n",
      "197\n",
      "199\n",
      "211\n",
      "223\n",
      "227\n",
      "229\n",
      "233\n",
      "239\n",
      "241\n",
      "251\n",
      "257\n",
      "263\n",
      "269\n",
      "271\n",
      "277\n",
      "281\n",
      "283\n",
      "293\n",
      "307\n",
      "311\n",
      "313\n",
      "317\n",
      "331\n",
      "337\n",
      "347\n",
      "349\n",
      "353\n",
      "359\n",
      "367\n",
      "373\n",
      "379\n",
      "383\n",
      "389\n",
      "397\n",
      "401\n",
      "409\n",
      "419\n",
      "421\n",
      "431\n",
      "433\n",
      "439\n",
      "443\n",
      "449\n",
      "457\n",
      "461\n",
      "463\n",
      "467\n",
      "479\n",
      "487\n",
      "491\n",
      "499\n",
      "503\n",
      "509\n",
      "521\n",
      "523\n",
      "541\n",
      "547\n",
      "557\n",
      "563\n",
      "569\n",
      "571\n",
      "577\n",
      "587\n",
      "593\n",
      "599\n",
      "601\n",
      "607\n",
      "613\n",
      "617\n",
      "619\n",
      "631\n",
      "641\n",
      "643\n",
      "647\n",
      "653\n",
      "659\n",
      "661\n",
      "673\n",
      "677\n",
      "683\n",
      "691\n",
      "701\n",
      "709\n",
      "719\n",
      "727\n",
      "733\n",
      "739\n",
      "743\n",
      "751\n",
      "757\n",
      "761\n",
      "769\n",
      "773\n",
      "787\n",
      "797\n",
      "809\n",
      "811\n",
      "821\n",
      "823\n",
      "827\n",
      "829\n",
      "839\n",
      "853\n",
      "857\n",
      "859\n",
      "863\n",
      "877\n",
      "881\n",
      "883\n",
      "887\n",
      "907\n",
      "911\n",
      "919\n",
      "929\n",
      "937\n",
      "941\n",
      "947\n",
      "953\n",
      "967\n",
      "971\n",
      "977\n",
      "983\n",
      "991\n",
      "997\n",
      "Ciclos sin break 498501\n"
     ]
    }
   ],
   "source": [
    "ciclo_sin_break =0\n",
    "num = 1000\n",
    "for i in range (2, num+1):\n",
    "    contador = 0\n",
    "    for j in range (2, i):\n",
    "        ciclo_sin_break +=1\n",
    "        if (i%j==0):\n",
    "            contador +=1\n",
    "    if (contador < 1):\n",
    "        print(i)\n",
    "\n",
    "print (\"Ciclos sin break \" + str(ciclo_sin_break))"
   ]
  },
  {
   "cell_type": "code",
   "execution_count": 45,
   "metadata": {},
   "outputs": [
    {
     "name": "stdout",
     "output_type": "stream",
     "text": [
      "2\n",
      "3\n",
      "5\n",
      "7\n",
      "11\n",
      "13\n",
      "17\n",
      "19\n",
      "23\n",
      "29\n",
      "31\n",
      "37\n",
      "41\n",
      "43\n",
      "47\n",
      "53\n",
      "59\n",
      "61\n",
      "67\n",
      "71\n",
      "73\n",
      "79\n",
      "83\n",
      "89\n",
      "97\n",
      "101\n",
      "103\n",
      "107\n",
      "109\n",
      "113\n",
      "127\n",
      "131\n",
      "137\n",
      "139\n",
      "149\n",
      "151\n",
      "157\n",
      "163\n",
      "167\n",
      "173\n",
      "179\n",
      "181\n",
      "191\n",
      "193\n",
      "197\n",
      "199\n",
      "211\n",
      "223\n",
      "227\n",
      "229\n",
      "233\n",
      "239\n",
      "241\n",
      "251\n",
      "257\n",
      "263\n",
      "269\n",
      "271\n",
      "277\n",
      "281\n",
      "283\n",
      "293\n",
      "307\n",
      "311\n",
      "313\n",
      "317\n",
      "331\n",
      "337\n",
      "347\n",
      "349\n",
      "353\n",
      "359\n",
      "367\n",
      "373\n",
      "379\n",
      "383\n",
      "389\n",
      "397\n",
      "401\n",
      "409\n",
      "419\n",
      "421\n",
      "431\n",
      "433\n",
      "439\n",
      "443\n",
      "449\n",
      "457\n",
      "461\n",
      "463\n",
      "467\n",
      "479\n",
      "487\n",
      "491\n",
      "499\n",
      "503\n",
      "509\n",
      "521\n",
      "523\n",
      "541\n",
      "547\n",
      "557\n",
      "563\n",
      "569\n",
      "571\n",
      "577\n",
      "587\n",
      "593\n",
      "599\n",
      "601\n",
      "607\n",
      "613\n",
      "617\n",
      "619\n",
      "631\n",
      "641\n",
      "643\n",
      "647\n",
      "653\n",
      "659\n",
      "661\n",
      "673\n",
      "677\n",
      "683\n",
      "691\n",
      "701\n",
      "709\n",
      "719\n",
      "727\n",
      "733\n",
      "739\n",
      "743\n",
      "751\n",
      "757\n",
      "761\n",
      "769\n",
      "773\n",
      "787\n",
      "797\n",
      "809\n",
      "811\n",
      "821\n",
      "823\n",
      "827\n",
      "829\n",
      "839\n",
      "853\n",
      "857\n",
      "859\n",
      "863\n",
      "877\n",
      "881\n",
      "883\n",
      "887\n",
      "907\n",
      "911\n",
      "919\n",
      "929\n",
      "937\n",
      "941\n",
      "947\n",
      "953\n",
      "967\n",
      "971\n",
      "977\n",
      "983\n",
      "991\n",
      "997\n",
      "Ciclos con Break 249999\n",
      "Se optimizo un 1.9940119760479043%\n"
     ]
    }
   ],
   "source": [
    "ciclo_con_break =0\n",
    "for i in range (2, num+1):\n",
    "    contador = 0  \n",
    "    for j in range (2, i):\n",
    "        ciclo_con_break +=1\n",
    "        if (i%j==0):\n",
    "            contador +=1\n",
    "        if (j > i/2):\n",
    "            break\n",
    "    if (contador < 1):\n",
    "        print(i)\n",
    "\n",
    "print (\"Ciclos con Break \" + str(ciclo_con_break))\n",
    "print (\"Se optimizo un \" + str(ciclo_sin_break/ciclo_con_break) + \"%\")"
   ]
  },
  {
   "cell_type": "markdown",
   "metadata": {},
   "source": [
    "13) Aplicando continue, armar un ciclo while que solo imprima los valores divisibles por 12, dentro del rango de números de 100 a 300"
   ]
  },
  {
   "cell_type": "code",
   "execution_count": 1,
   "metadata": {},
   "outputs": [
    {
     "name": "stdout",
     "output_type": "stream",
     "text": [
      "108\n",
      "120\n",
      "132\n",
      "144\n",
      "156\n",
      "168\n",
      "180\n",
      "192\n",
      "204\n",
      "216\n",
      "228\n",
      "240\n",
      "252\n",
      "264\n",
      "276\n",
      "288\n",
      "300\n"
     ]
    }
   ],
   "source": [
    "iterador = 100\n",
    "while (iterador <= 300):\n",
    "    iterador +=1\n",
    "    if (iterador % 12 != 0):\n",
    "        continue\n",
    "    print(iterador)\n"
   ]
  },
  {
   "cell_type": "markdown",
   "metadata": {},
   "source": [
    "14) Utilizar la función **input()** que permite hacer ingresos por teclado, para encontrar números primos y dar la opción al usario de buscar el siguiente"
   ]
  },
  {
   "cell_type": "code",
   "execution_count": 79,
   "metadata": {},
   "outputs": [
    {
     "name": "stdout",
     "output_type": "stream",
     "text": [
      "2\n",
      "Quiere continuar buscando por el siguente? Presione Y para confirmar\n",
      "3\n",
      "Quiere continuar buscando por el siguente? Presione Y para confirmar\n",
      "5\n",
      "Quiere continuar buscando por el siguente? Presione Y para confirmar\n",
      "7\n",
      "Quiere continuar buscando por el siguente? Presione Y para confirmar\n",
      "11\n",
      "Quiere continuar buscando por el siguente? Presione Y para confirmar\n",
      "13\n",
      "Quiere continuar buscando por el siguente? Presione Y para confirmar\n",
      "17\n",
      "Quiere continuar buscando por el siguente? Presione Y para confirmar\n",
      "19\n",
      "Quiere continuar buscando por el siguente? Presione Y para confirmar\n",
      "23\n",
      "Quiere continuar buscando por el siguente? Presione Y para confirmar\n",
      "29\n",
      "Quiere continuar buscando por el siguente? Presione Y para confirmar\n",
      "31\n",
      "Quiere continuar buscando por el siguente? Presione Y para confirmar\n",
      "37\n",
      "Quiere continuar buscando por el siguente? Presione Y para confirmar\n",
      "41\n",
      "Quiere continuar buscando por el siguente? Presione Y para confirmar\n",
      "Fin del programa\n"
     ]
    }
   ],
   "source": [
    "sigue = True\n",
    "n= 2\n",
    "while (sigue == True):\n",
    "    for i in range (2, n):\n",
    "        contador = 0\n",
    "        if (n%i==0):\n",
    "                contador +=1\n",
    "                break\n",
    "    if (contador < 1):\n",
    "        print(n)\n",
    "        print(\"Quiere continuar buscando por el siguente? Presione \"\"Y\"\" para confirmar\")\n",
    "        if (str.capitalize(input())!=\"Y\"):\n",
    "            print (\"Fin del programa\")\n",
    "            sigue=False\n",
    "            break\n",
    "    n+=1\n"
   ]
  },
  {
   "cell_type": "markdown",
   "metadata": {},
   "source": [
    "15) Crear un ciclo while que encuentre dentro del rango de 100 a 300 el primer número divisible por 3 y además múltiplo de 6"
   ]
  },
  {
   "cell_type": "code",
   "execution_count": 81,
   "metadata": {},
   "outputs": [
    {
     "name": "stdout",
     "output_type": "stream",
     "text": [
      "102\n"
     ]
    }
   ],
   "source": [
    "finder = False\n",
    "while (finder == False):\n",
    "    for i in range (100, 300):\n",
    "        if (i%3==0 & i%2==0):\n",
    "            print(i)\n",
    "            finder= True\n",
    "            break"
   ]
  }
 ],
 "metadata": {
  "kernelspec": {
   "display_name": "Python 3.10.7 64-bit",
   "language": "python",
   "name": "python3"
  },
  "language_info": {
   "codemirror_mode": {
    "name": "ipython",
    "version": 3
   },
   "file_extension": ".py",
   "mimetype": "text/x-python",
   "name": "python",
   "nbconvert_exporter": "python",
   "pygments_lexer": "ipython3",
   "version": "3.10.7"
  },
  "orig_nbformat": 4,
  "vscode": {
   "interpreter": {
    "hash": "369f2c481f4da34e4445cda3fffd2e751bd1c4d706f27375911949ba6bb62e1c"
   }
  }
 },
 "nbformat": 4,
 "nbformat_minor": 2
}
